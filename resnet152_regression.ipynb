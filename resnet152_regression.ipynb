{
 "cells": [
  {
   "cell_type": "code",
   "execution_count": 35,
   "id": "63ed5e1a",
   "metadata": {
    "scrolled": false
   },
   "outputs": [
    {
     "data": {
      "text/html": [
       "<div>\n",
       "<style scoped>\n",
       "    .dataframe tbody tr th:only-of-type {\n",
       "        vertical-align: middle;\n",
       "    }\n",
       "\n",
       "    .dataframe tbody tr th {\n",
       "        vertical-align: top;\n",
       "    }\n",
       "\n",
       "    .dataframe thead th {\n",
       "        text-align: right;\n",
       "    }\n",
       "</style>\n",
       "<table border=\"1\" class=\"dataframe\">\n",
       "  <thead>\n",
       "    <tr style=\"text-align: right;\">\n",
       "      <th></th>\n",
       "      <th>ID</th>\n",
       "      <th>kPa_fib</th>\n",
       "      <th>image_path</th>\n",
       "    </tr>\n",
       "  </thead>\n",
       "  <tbody>\n",
       "    <tr>\n",
       "      <th>0</th>\n",
       "      <td>00266195</td>\n",
       "      <td>3.8</td>\n",
       "      <td>data/roi_sampled/00266195-0.jpg</td>\n",
       "    </tr>\n",
       "    <tr>\n",
       "      <th>1</th>\n",
       "      <td>00266195</td>\n",
       "      <td>3.8</td>\n",
       "      <td>data/roi_sampled/00266195-1.jpg</td>\n",
       "    </tr>\n",
       "    <tr>\n",
       "      <th>2</th>\n",
       "      <td>00266195</td>\n",
       "      <td>3.8</td>\n",
       "      <td>data/roi_sampled/00266195-10.jpg</td>\n",
       "    </tr>\n",
       "    <tr>\n",
       "      <th>3</th>\n",
       "      <td>00266195</td>\n",
       "      <td>3.8</td>\n",
       "      <td>data/roi_sampled/00266195-11.jpg</td>\n",
       "    </tr>\n",
       "    <tr>\n",
       "      <th>4</th>\n",
       "      <td>00266195</td>\n",
       "      <td>3.8</td>\n",
       "      <td>data/roi_sampled/00266195-12.jpg</td>\n",
       "    </tr>\n",
       "  </tbody>\n",
       "</table>\n",
       "</div>"
      ],
      "text/plain": [
       "         ID  kPa_fib                        image_path\n",
       "0  00266195      3.8   data/roi_sampled/00266195-0.jpg\n",
       "1  00266195      3.8   data/roi_sampled/00266195-1.jpg\n",
       "2  00266195      3.8  data/roi_sampled/00266195-10.jpg\n",
       "3  00266195      3.8  data/roi_sampled/00266195-11.jpg\n",
       "4  00266195      3.8  data/roi_sampled/00266195-12.jpg"
      ]
     },
     "execution_count": 35,
     "metadata": {},
     "output_type": "execute_result"
    }
   ],
   "source": [
    "import os\n",
    "import cv2\n",
    "import glob\n",
    "import timm\n",
    "import random\n",
    "import numpy as np\n",
    "import pandas as pd\n",
    "from collections import Counter\n",
    "from sklearn.model_selection import train_test_split\n",
    "\n",
    "import torch\n",
    "import torch.nn as nn\n",
    "import torch.nn.functional as F\n",
    "from torch.utils.data import DataLoader, Dataset\n",
    "\n",
    "import albumentations as A\n",
    "from albumentations.pytorch.transforms import ToTensorV2\n",
    "\n",
    "import pytorch_lightning as pl\n",
    "from pytorch_lightning.callbacks import ModelCheckpoint\n",
    "from torchmetrics.functional import mean_squared_error, mean_absolute_error\n",
    "\n",
    "batch_size = 128\n",
    "\n",
    "df = pd.read_excel(\"data/US_fibrosis_stage_dataset.xlsx\", engine=\"openpyxl\")\n",
    "# only HBV patients\n",
    "# df = df[df.Etiology == 1].reset_index(drop=True)\n",
    "df = df.loc[(df.AST < 100) | (df.ALT < 100)].reset_index(drop=True)\n",
    "df = df.loc[:, [\"ID\", \"kPa_fib\"]].dropna().reset_index(drop=True)\n",
    "df.kPa_fib = df.kPa_fib.map(lambda x: 30 if x >= 30 else x)\n",
    "\n",
    "df.ID = df.ID.map(lambda x: str(x).zfill(8))\n",
    "\n",
    "flist = os.listdir(\"data/roi_sampled/\")\n",
    "id_list = list(map(lambda x: x.split(\"_\")[0].zfill(8), flist))\n",
    "\n",
    "image_df = pd.DataFrame(glob.glob(os.path.join(\"data\", \"roi_sampled\", \"*.jpg\")), columns=[\"image_path\"])\n",
    "image_df.loc[:, \"ID\"] = image_df.image_path.map(lambda x: x.split(\"/\")[-1].split(\"-\")[0])\n",
    "\n",
    "df = pd.merge(df, image_df, on=\"ID\", how=\"inner\")\n",
    "df.head()"
   ]
  },
  {
   "cell_type": "code",
   "execution_count": 36,
   "id": "2d2528d2",
   "metadata": {},
   "outputs": [
    {
     "name": "stdout",
     "output_type": "stream",
     "text": [
      "Train:  852\n",
      "Valid:  151\n",
      "Test:  177\n"
     ]
    }
   ],
   "source": [
    "ids = df.ID.drop_duplicates().reset_index(drop=True)\n",
    "\n",
    "train_id, test_id = train_test_split(ids, test_size=0.15, random_state=42)\n",
    "train_id, valid_id = train_test_split(train_id, test_size=0.15, random_state=42)\n",
    "\n",
    "train_df = df[df.ID.isin(train_id)].reset_index(drop=True)\n",
    "valid_df = df[df.ID.isin(valid_id)].reset_index(drop=True)\n",
    "test_df = df[df.ID.isin(test_id)].reset_index(drop=True)\n",
    "\n",
    "print(\"Train: \", len(train_df.ID.drop_duplicates()))\n",
    "print(\"Valid: \", len(valid_df.ID.drop_duplicates()))\n",
    "print(\"Test: \", len(test_df.ID.drop_duplicates()))"
   ]
  },
  {
   "cell_type": "code",
   "execution_count": 3,
   "id": "03870406",
   "metadata": {},
   "outputs": [
    {
     "name": "stderr",
     "output_type": "stream",
     "text": [
      "/home/ubuntu/anaconda3/envs/pytorch/lib/python3.8/site-packages/albumentations/augmentations/transforms.py:1613: FutureWarning: This class has been deprecated. Please use RandomBrightnessContrast\n",
      "  warnings.warn(\n",
      "/home/ubuntu/anaconda3/envs/pytorch/lib/python3.8/site-packages/albumentations/augmentations/transforms.py:1639: FutureWarning: RandomContrast has been deprecated. Please use RandomBrightnessContrast\n",
      "  warnings.warn(\n"
     ]
    }
   ],
   "source": [
    "def define_augmentation(w, h):\n",
    "    train_transforms = A.Compose([ \n",
    "        A.Resize(width=w, height=h, p=1.0),\n",
    "        A.OneOf([\n",
    "            A.Downscale(),\n",
    "        ], p=0.5),        \n",
    "        \n",
    "        A.HorizontalFlip(p=0.5),\n",
    "        \n",
    "        A.Affine(p=0.8),\n",
    "        \n",
    "        A.OneOf([\n",
    "            A.RandomBrightnessContrast(),\n",
    "            A.RandomBrightness(),\n",
    "            A.RandomContrast()\n",
    "        ], p=0.5),\n",
    "        \n",
    "        A.Normalize(p=1.0),\n",
    "        ToTensorV2()\n",
    "    ])\n",
    "\n",
    "    valid_transforms = A.Compose([ \n",
    "        A.Resize(width=w, height=h, p=1.0),\n",
    "        A.Normalize(p=1.0),\n",
    "        ToTensorV2()\n",
    "    ])\n",
    "\n",
    "    return train_transforms, valid_transforms\n",
    "\n",
    "\n",
    "class SonographyDataset(Dataset):\n",
    "    def __init__(self, df, transform, train_mode=False):\n",
    "        self.df = df\n",
    "        self.transform = transform\n",
    "        self.train_mode = train_mode\n",
    "        \n",
    "        \n",
    "    def __len__(self):\n",
    "        return len(self.df)\n",
    "\n",
    "    \n",
    "    def __getitem__(self, idx):\n",
    "        image = cv2.imread(self.df.loc[idx, \"image_path\"])\n",
    "        image = self.transform(image=image)\n",
    "        \n",
    "        y = self.df.loc[idx, \"kPa_fib\"]\n",
    "        if self.train_mode:\n",
    "            y += np.random.rand(1)[0] - 0.5\n",
    "\n",
    "        return image['image'], torch.tensor(y).log().float()\n",
    "    \n",
    "    \n",
    "train_transform, valid_transform = define_augmentation(w=224, h=224)\n",
    "\n",
    "train_dataset = SonographyDataset(train_df, train_transform, train_mode=True)\n",
    "valid_dataset = SonographyDataset(valid_df, valid_transform)\n",
    "test_dataset = SonographyDataset(test_df, valid_transform)\n",
    "\n",
    "\n",
    "train_dataloader = DataLoader(train_dataset, batch_size=batch_size, \n",
    "                              num_workers=14, prefetch_factor=10,\n",
    "                              pin_memory=True)\n",
    "\n",
    "valid_dataloader = DataLoader(valid_dataset, batch_size=batch_size, \n",
    "                              num_workers=14, prefetch_factor=10,\n",
    "                              pin_memory=True)\n",
    "\n",
    "test_dataloader = DataLoader(test_dataset, batch_size=batch_size, \n",
    "                              num_workers=14, prefetch_factor=10,\n",
    "                              pin_memory=True)"
   ]
  },
  {
   "cell_type": "code",
   "execution_count": 4,
   "id": "dce66461",
   "metadata": {
    "scrolled": true
   },
   "outputs": [
    {
     "name": "stderr",
     "output_type": "stream",
     "text": [
      "/home/ubuntu/anaconda3/envs/pytorch/lib/python3.8/site-packages/pytorch_lightning/trainer/connectors/accelerator_connector.py:429: LightningDeprecationWarning: Setting `Trainer(gpus=[1])` is deprecated in v1.7 and will be removed in v2.0. Please use `Trainer(accelerator='gpu', devices=[1])` instead.\n",
      "  rank_zero_deprecation(\n",
      "Using 16bit native Automatic Mixed Precision (AMP)\n",
      "GPU available: True, used: True\n",
      "TPU available: False, using: 0 TPU cores\n",
      "IPU available: False, using: 0 IPUs\n",
      "HPU available: False, using: 0 HPUs\n"
     ]
    }
   ],
   "source": [
    "class KpaPredictor(pl.LightningModule):\n",
    "    def __init__(self, model):\n",
    "        super().__init__()\n",
    "        self.model = model\n",
    "        \n",
    "        \n",
    "    def forward(self, x):\n",
    "        return self.model(x)\n",
    "    \n",
    "    \n",
    "    def step(self, batch):\n",
    "        # x: image, y: kpa\n",
    "        x, y = batch\n",
    "        preds = torch.squeeze(self(x), -1)\n",
    "        loss = F.l1_loss(preds, y)\n",
    "        mse = mean_squared_error(preds, y)\n",
    "        \n",
    "        return preds, loss, mse\n",
    "    \n",
    "    \n",
    "    def training_step(self, batch, batch_idx):\n",
    "        _, loss, mse = self.step(batch)\n",
    "        \n",
    "        self.log('train_loss', loss, on_step=False, on_epoch=True, prog_bar=True)\n",
    "        self.log('train_mse', mse, on_step=False, on_epoch=True, prog_bar=True)\n",
    "        \n",
    "        return loss\n",
    "    \n",
    "    \n",
    "    def validation_step(self, batch, batch_idx):\n",
    "        _, loss, mse = self.step(batch)\n",
    "        \n",
    "        self.log('valid_loss', loss, on_step=False, on_epoch=True, prog_bar=True)\n",
    "        self.log('valid_mse', mse, on_step=False, on_epoch=True, prog_bar=True)\n",
    "        \n",
    "    \n",
    "    def test_step(self, batch, batch_idx):\n",
    "        _, loss, mse = self.step(batch)\n",
    "        \n",
    "        self.log('test_loss', loss, on_step=False, on_epoch=True, prog_bar=True)\n",
    "        self.log('test_mse', mse, on_step=False, on_epoch=True, prog_bar=True)\n",
    "    \n",
    "    \n",
    "    def predict_step(self, batch, batch_idx):\n",
    "        preds, _, _ = self.step(batch)\n",
    "        \n",
    "        return preds\n",
    "\n",
    "    \n",
    "    def configure_optimizers(self):\n",
    "        optimizer = torch.optim.Adam(self.parameters(), lr=6e-4)\n",
    "        scheduler = torch.optim.lr_scheduler.CosineAnnealingLR(optimizer, T_max=30)\n",
    "        \n",
    "        return {\"optimizer\": optimizer, \"lr_scheduler\": scheduler}\n",
    "    \n",
    "    \n",
    "    def lr_scheduler_step(self, scheduler, optimizer_idx, metric):\n",
    "        scheduler.step(epoch=self.current_epoch)\n",
    "\n",
    "    \n",
    "    \n",
    "callbacks = [\n",
    "    ModelCheckpoint(monitor='valid_loss', save_top_k=3, dirpath='weights/regression_res152_wo_bound', filename='kpa_predictor-{epoch:03d}-{valid_loss:.4f}-{valid_mse:.4f}'),\n",
    "]\n",
    "\n",
    "\n",
    "model = timm.create_model(\"resnet152\", num_classes=1, pretrained=True)\n",
    "kpa_predictor = KpaPredictor(model)\n",
    "\n",
    "trainer = pl.Trainer(max_epochs=100, gpus=[1], \n",
    "                     enable_progress_bar=True, \n",
    "                     callbacks=callbacks, precision=16)"
   ]
  },
  {
   "cell_type": "code",
   "execution_count": 5,
   "id": "8ed583f5",
   "metadata": {
    "scrolled": true
   },
   "outputs": [
    {
     "name": "stderr",
     "output_type": "stream",
     "text": [
      "LOCAL_RANK: 0 - CUDA_VISIBLE_DEVICES: [0,1]\n",
      "\n",
      "  | Name  | Type   | Params\n",
      "---------------------------------\n",
      "0 | model | ResNet | 58.1 M\n",
      "---------------------------------\n",
      "58.1 M    Trainable params\n",
      "0         Non-trainable params\n",
      "58.1 M    Total params\n",
      "116.292   Total estimated model params size (MB)\n"
     ]
    },
    {
     "data": {
      "application/vnd.jupyter.widget-view+json": {
       "model_id": "",
       "version_major": 2,
       "version_minor": 0
      },
      "text/plain": [
       "Sanity Checking: 0it [00:00, ?it/s]"
      ]
     },
     "metadata": {},
     "output_type": "display_data"
    },
    {
     "data": {
      "application/vnd.jupyter.widget-view+json": {
       "model_id": "4962b7c977db497ba248520d643bd248",
       "version_major": 2,
       "version_minor": 0
      },
      "text/plain": [
       "Training: 0it [00:00, ?it/s]"
      ]
     },
     "metadata": {},
     "output_type": "display_data"
    },
    {
     "name": "stderr",
     "output_type": "stream",
     "text": [
      "/home/ubuntu/anaconda3/envs/pytorch/lib/python3.8/site-packages/torch/optim/lr_scheduler.py:156: UserWarning: The epoch parameter in `scheduler.step()` was not necessary and is being deprecated where possible. Please use `scheduler.step()` to step the scheduler. During the deprecation, if epoch is different from None, the closed form is used instead of the new chainable form, where available. Please open an issue if you are unable to replicate your use case: https://github.com/pytorch/pytorch/issues/new/choose.\n",
      "  warnings.warn(EPOCH_DEPRECATION_WARNING, UserWarning)\n"
     ]
    },
    {
     "data": {
      "application/vnd.jupyter.widget-view+json": {
       "model_id": "",
       "version_major": 2,
       "version_minor": 0
      },
      "text/plain": [
       "Validation: 0it [00:00, ?it/s]"
      ]
     },
     "metadata": {},
     "output_type": "display_data"
    },
    {
     "data": {
      "application/vnd.jupyter.widget-view+json": {
       "model_id": "",
       "version_major": 2,
       "version_minor": 0
      },
      "text/plain": [
       "Validation: 0it [00:00, ?it/s]"
      ]
     },
     "metadata": {},
     "output_type": "display_data"
    },
    {
     "data": {
      "application/vnd.jupyter.widget-view+json": {
       "model_id": "",
       "version_major": 2,
       "version_minor": 0
      },
      "text/plain": [
       "Validation: 0it [00:00, ?it/s]"
      ]
     },
     "metadata": {},
     "output_type": "display_data"
    },
    {
     "data": {
      "application/vnd.jupyter.widget-view+json": {
       "model_id": "",
       "version_major": 2,
       "version_minor": 0
      },
      "text/plain": [
       "Validation: 0it [00:00, ?it/s]"
      ]
     },
     "metadata": {},
     "output_type": "display_data"
    },
    {
     "data": {
      "application/vnd.jupyter.widget-view+json": {
       "model_id": "",
       "version_major": 2,
       "version_minor": 0
      },
      "text/plain": [
       "Validation: 0it [00:00, ?it/s]"
      ]
     },
     "metadata": {},
     "output_type": "display_data"
    },
    {
     "data": {
      "application/vnd.jupyter.widget-view+json": {
       "model_id": "",
       "version_major": 2,
       "version_minor": 0
      },
      "text/plain": [
       "Validation: 0it [00:00, ?it/s]"
      ]
     },
     "metadata": {},
     "output_type": "display_data"
    },
    {
     "data": {
      "application/vnd.jupyter.widget-view+json": {
       "model_id": "",
       "version_major": 2,
       "version_minor": 0
      },
      "text/plain": [
       "Validation: 0it [00:00, ?it/s]"
      ]
     },
     "metadata": {},
     "output_type": "display_data"
    },
    {
     "data": {
      "application/vnd.jupyter.widget-view+json": {
       "model_id": "",
       "version_major": 2,
       "version_minor": 0
      },
      "text/plain": [
       "Validation: 0it [00:00, ?it/s]"
      ]
     },
     "metadata": {},
     "output_type": "display_data"
    },
    {
     "data": {
      "application/vnd.jupyter.widget-view+json": {
       "model_id": "",
       "version_major": 2,
       "version_minor": 0
      },
      "text/plain": [
       "Validation: 0it [00:00, ?it/s]"
      ]
     },
     "metadata": {},
     "output_type": "display_data"
    },
    {
     "data": {
      "application/vnd.jupyter.widget-view+json": {
       "model_id": "",
       "version_major": 2,
       "version_minor": 0
      },
      "text/plain": [
       "Validation: 0it [00:00, ?it/s]"
      ]
     },
     "metadata": {},
     "output_type": "display_data"
    },
    {
     "data": {
      "application/vnd.jupyter.widget-view+json": {
       "model_id": "",
       "version_major": 2,
       "version_minor": 0
      },
      "text/plain": [
       "Validation: 0it [00:00, ?it/s]"
      ]
     },
     "metadata": {},
     "output_type": "display_data"
    },
    {
     "data": {
      "application/vnd.jupyter.widget-view+json": {
       "model_id": "",
       "version_major": 2,
       "version_minor": 0
      },
      "text/plain": [
       "Validation: 0it [00:00, ?it/s]"
      ]
     },
     "metadata": {},
     "output_type": "display_data"
    },
    {
     "data": {
      "application/vnd.jupyter.widget-view+json": {
       "model_id": "",
       "version_major": 2,
       "version_minor": 0
      },
      "text/plain": [
       "Validation: 0it [00:00, ?it/s]"
      ]
     },
     "metadata": {},
     "output_type": "display_data"
    },
    {
     "data": {
      "application/vnd.jupyter.widget-view+json": {
       "model_id": "",
       "version_major": 2,
       "version_minor": 0
      },
      "text/plain": [
       "Validation: 0it [00:00, ?it/s]"
      ]
     },
     "metadata": {},
     "output_type": "display_data"
    },
    {
     "data": {
      "application/vnd.jupyter.widget-view+json": {
       "model_id": "",
       "version_major": 2,
       "version_minor": 0
      },
      "text/plain": [
       "Validation: 0it [00:00, ?it/s]"
      ]
     },
     "metadata": {},
     "output_type": "display_data"
    },
    {
     "data": {
      "application/vnd.jupyter.widget-view+json": {
       "model_id": "",
       "version_major": 2,
       "version_minor": 0
      },
      "text/plain": [
       "Validation: 0it [00:00, ?it/s]"
      ]
     },
     "metadata": {},
     "output_type": "display_data"
    },
    {
     "data": {
      "application/vnd.jupyter.widget-view+json": {
       "model_id": "",
       "version_major": 2,
       "version_minor": 0
      },
      "text/plain": [
       "Validation: 0it [00:00, ?it/s]"
      ]
     },
     "metadata": {},
     "output_type": "display_data"
    },
    {
     "data": {
      "application/vnd.jupyter.widget-view+json": {
       "model_id": "",
       "version_major": 2,
       "version_minor": 0
      },
      "text/plain": [
       "Validation: 0it [00:00, ?it/s]"
      ]
     },
     "metadata": {},
     "output_type": "display_data"
    },
    {
     "data": {
      "application/vnd.jupyter.widget-view+json": {
       "model_id": "",
       "version_major": 2,
       "version_minor": 0
      },
      "text/plain": [
       "Validation: 0it [00:00, ?it/s]"
      ]
     },
     "metadata": {},
     "output_type": "display_data"
    },
    {
     "data": {
      "application/vnd.jupyter.widget-view+json": {
       "model_id": "",
       "version_major": 2,
       "version_minor": 0
      },
      "text/plain": [
       "Validation: 0it [00:00, ?it/s]"
      ]
     },
     "metadata": {},
     "output_type": "display_data"
    },
    {
     "data": {
      "application/vnd.jupyter.widget-view+json": {
       "model_id": "",
       "version_major": 2,
       "version_minor": 0
      },
      "text/plain": [
       "Validation: 0it [00:00, ?it/s]"
      ]
     },
     "metadata": {},
     "output_type": "display_data"
    },
    {
     "data": {
      "application/vnd.jupyter.widget-view+json": {
       "model_id": "",
       "version_major": 2,
       "version_minor": 0
      },
      "text/plain": [
       "Validation: 0it [00:00, ?it/s]"
      ]
     },
     "metadata": {},
     "output_type": "display_data"
    },
    {
     "data": {
      "application/vnd.jupyter.widget-view+json": {
       "model_id": "",
       "version_major": 2,
       "version_minor": 0
      },
      "text/plain": [
       "Validation: 0it [00:00, ?it/s]"
      ]
     },
     "metadata": {},
     "output_type": "display_data"
    },
    {
     "data": {
      "application/vnd.jupyter.widget-view+json": {
       "model_id": "",
       "version_major": 2,
       "version_minor": 0
      },
      "text/plain": [
       "Validation: 0it [00:00, ?it/s]"
      ]
     },
     "metadata": {},
     "output_type": "display_data"
    },
    {
     "data": {
      "application/vnd.jupyter.widget-view+json": {
       "model_id": "",
       "version_major": 2,
       "version_minor": 0
      },
      "text/plain": [
       "Validation: 0it [00:00, ?it/s]"
      ]
     },
     "metadata": {},
     "output_type": "display_data"
    },
    {
     "data": {
      "application/vnd.jupyter.widget-view+json": {
       "model_id": "",
       "version_major": 2,
       "version_minor": 0
      },
      "text/plain": [
       "Validation: 0it [00:00, ?it/s]"
      ]
     },
     "metadata": {},
     "output_type": "display_data"
    },
    {
     "data": {
      "application/vnd.jupyter.widget-view+json": {
       "model_id": "",
       "version_major": 2,
       "version_minor": 0
      },
      "text/plain": [
       "Validation: 0it [00:00, ?it/s]"
      ]
     },
     "metadata": {},
     "output_type": "display_data"
    },
    {
     "data": {
      "application/vnd.jupyter.widget-view+json": {
       "model_id": "",
       "version_major": 2,
       "version_minor": 0
      },
      "text/plain": [
       "Validation: 0it [00:00, ?it/s]"
      ]
     },
     "metadata": {},
     "output_type": "display_data"
    },
    {
     "data": {
      "application/vnd.jupyter.widget-view+json": {
       "model_id": "",
       "version_major": 2,
       "version_minor": 0
      },
      "text/plain": [
       "Validation: 0it [00:00, ?it/s]"
      ]
     },
     "metadata": {},
     "output_type": "display_data"
    },
    {
     "data": {
      "application/vnd.jupyter.widget-view+json": {
       "model_id": "",
       "version_major": 2,
       "version_minor": 0
      },
      "text/plain": [
       "Validation: 0it [00:00, ?it/s]"
      ]
     },
     "metadata": {},
     "output_type": "display_data"
    },
    {
     "name": "stderr",
     "output_type": "stream",
     "text": [
      "IOPub message rate exceeded.\n",
      "The notebook server will temporarily stop sending output\n",
      "to the client in order to avoid crashing it.\n",
      "To change this limit, set the config variable\n",
      "`--NotebookApp.iopub_msg_rate_limit`.\n",
      "\n",
      "Current values:\n",
      "NotebookApp.iopub_msg_rate_limit=1000.0 (msgs/sec)\n",
      "NotebookApp.rate_limit_window=3.0 (secs)\n",
      "\n"
     ]
    },
    {
     "data": {
      "application/vnd.jupyter.widget-view+json": {
       "model_id": "",
       "version_major": 2,
       "version_minor": 0
      },
      "text/plain": [
       "Validation: 0it [00:00, ?it/s]"
      ]
     },
     "metadata": {},
     "output_type": "display_data"
    },
    {
     "data": {
      "application/vnd.jupyter.widget-view+json": {
       "model_id": "",
       "version_major": 2,
       "version_minor": 0
      },
      "text/plain": [
       "Validation: 0it [00:00, ?it/s]"
      ]
     },
     "metadata": {},
     "output_type": "display_data"
    },
    {
     "data": {
      "application/vnd.jupyter.widget-view+json": {
       "model_id": "",
       "version_major": 2,
       "version_minor": 0
      },
      "text/plain": [
       "Validation: 0it [00:00, ?it/s]"
      ]
     },
     "metadata": {},
     "output_type": "display_data"
    },
    {
     "data": {
      "application/vnd.jupyter.widget-view+json": {
       "model_id": "",
       "version_major": 2,
       "version_minor": 0
      },
      "text/plain": [
       "Validation: 0it [00:00, ?it/s]"
      ]
     },
     "metadata": {},
     "output_type": "display_data"
    },
    {
     "data": {
      "application/vnd.jupyter.widget-view+json": {
       "model_id": "",
       "version_major": 2,
       "version_minor": 0
      },
      "text/plain": [
       "Validation: 0it [00:00, ?it/s]"
      ]
     },
     "metadata": {},
     "output_type": "display_data"
    },
    {
     "data": {
      "application/vnd.jupyter.widget-view+json": {
       "model_id": "456f6b8bbbb8441ca6d18fbc6914bf67",
       "version_major": 2,
       "version_minor": 0
      },
      "text/plain": [
       "Validation: 0it [00:00, ?it/s]"
      ]
     },
     "metadata": {},
     "output_type": "display_data"
    },
    {
     "name": "stderr",
     "output_type": "stream",
     "text": [
      "IOPub message rate exceeded.\n",
      "The notebook server will temporarily stop sending output\n",
      "to the client in order to avoid crashing it.\n",
      "To change this limit, set the config variable\n",
      "`--NotebookApp.iopub_msg_rate_limit`.\n",
      "\n",
      "Current values:\n",
      "NotebookApp.iopub_msg_rate_limit=1000.0 (msgs/sec)\n",
      "NotebookApp.rate_limit_window=3.0 (secs)\n",
      "\n"
     ]
    },
    {
     "data": {
      "application/vnd.jupyter.widget-view+json": {
       "model_id": "",
       "version_major": 2,
       "version_minor": 0
      },
      "text/plain": [
       "Validation: 0it [00:00, ?it/s]"
      ]
     },
     "metadata": {},
     "output_type": "display_data"
    },
    {
     "data": {
      "application/vnd.jupyter.widget-view+json": {
       "model_id": "",
       "version_major": 2,
       "version_minor": 0
      },
      "text/plain": [
       "Validation: 0it [00:00, ?it/s]"
      ]
     },
     "metadata": {},
     "output_type": "display_data"
    },
    {
     "data": {
      "application/vnd.jupyter.widget-view+json": {
       "model_id": "",
       "version_major": 2,
       "version_minor": 0
      },
      "text/plain": [
       "Validation: 0it [00:00, ?it/s]"
      ]
     },
     "metadata": {},
     "output_type": "display_data"
    },
    {
     "data": {
      "application/vnd.jupyter.widget-view+json": {
       "model_id": "",
       "version_major": 2,
       "version_minor": 0
      },
      "text/plain": [
       "Validation: 0it [00:00, ?it/s]"
      ]
     },
     "metadata": {},
     "output_type": "display_data"
    },
    {
     "data": {
      "application/vnd.jupyter.widget-view+json": {
       "model_id": "9e18a7adb9d24c9fbf44a6600d0a0480",
       "version_major": 2,
       "version_minor": 0
      },
      "text/plain": [
       "Validation: 0it [00:00, ?it/s]"
      ]
     },
     "metadata": {},
     "output_type": "display_data"
    },
    {
     "name": "stderr",
     "output_type": "stream",
     "text": [
      "IOPub message rate exceeded.\n",
      "The notebook server will temporarily stop sending output\n",
      "to the client in order to avoid crashing it.\n",
      "To change this limit, set the config variable\n",
      "`--NotebookApp.iopub_msg_rate_limit`.\n",
      "\n",
      "Current values:\n",
      "NotebookApp.iopub_msg_rate_limit=1000.0 (msgs/sec)\n",
      "NotebookApp.rate_limit_window=3.0 (secs)\n",
      "\n"
     ]
    },
    {
     "data": {
      "application/vnd.jupyter.widget-view+json": {
       "model_id": "",
       "version_major": 2,
       "version_minor": 0
      },
      "text/plain": [
       "Validation: 0it [00:00, ?it/s]"
      ]
     },
     "metadata": {},
     "output_type": "display_data"
    },
    {
     "data": {
      "application/vnd.jupyter.widget-view+json": {
       "model_id": "",
       "version_major": 2,
       "version_minor": 0
      },
      "text/plain": [
       "Validation: 0it [00:00, ?it/s]"
      ]
     },
     "metadata": {},
     "output_type": "display_data"
    },
    {
     "data": {
      "application/vnd.jupyter.widget-view+json": {
       "model_id": "",
       "version_major": 2,
       "version_minor": 0
      },
      "text/plain": [
       "Validation: 0it [00:00, ?it/s]"
      ]
     },
     "metadata": {},
     "output_type": "display_data"
    },
    {
     "data": {
      "application/vnd.jupyter.widget-view+json": {
       "model_id": "",
       "version_major": 2,
       "version_minor": 0
      },
      "text/plain": [
       "Validation: 0it [00:00, ?it/s]"
      ]
     },
     "metadata": {},
     "output_type": "display_data"
    },
    {
     "data": {
      "application/vnd.jupyter.widget-view+json": {
       "model_id": "",
       "version_major": 2,
       "version_minor": 0
      },
      "text/plain": [
       "Validation: 0it [00:00, ?it/s]"
      ]
     },
     "metadata": {},
     "output_type": "display_data"
    },
    {
     "name": "stderr",
     "output_type": "stream",
     "text": [
      "IOPub message rate exceeded.\n",
      "The notebook server will temporarily stop sending output\n",
      "to the client in order to avoid crashing it.\n",
      "To change this limit, set the config variable\n",
      "`--NotebookApp.iopub_msg_rate_limit`.\n",
      "\n",
      "Current values:\n",
      "NotebookApp.iopub_msg_rate_limit=1000.0 (msgs/sec)\n",
      "NotebookApp.rate_limit_window=3.0 (secs)\n",
      "\n"
     ]
    }
   ],
   "source": [
    "trainer.fit(kpa_predictor, train_dataloader, valid_dataloader)"
   ]
  },
  {
   "cell_type": "code",
   "execution_count": 6,
   "id": "30526671",
   "metadata": {
    "scrolled": true
   },
   "outputs": [
    {
     "name": "stderr",
     "output_type": "stream",
     "text": [
      "LOCAL_RANK: 0 - CUDA_VISIBLE_DEVICES: [0,1]\n"
     ]
    },
    {
     "data": {
      "application/vnd.jupyter.widget-view+json": {
       "model_id": "7649f950911c455cbb0cb4a066ef70e8",
       "version_major": 2,
       "version_minor": 0
      },
      "text/plain": [
       "Testing: 0it [00:00, ?it/s]"
      ]
     },
     "metadata": {},
     "output_type": "display_data"
    },
    {
     "name": "stdout",
     "output_type": "stream",
     "text": [
      "────────────────────────────────────────────────────────────────────────────────────────────────────────────────────────\n",
      "       Test metric             DataLoader 0\n",
      "────────────────────────────────────────────────────────────────────────────────────────────────────────────────────────\n",
      "        test_loss           0.4161258935928345\n",
      "        test_mse            0.3028821349143982\n",
      "────────────────────────────────────────────────────────────────────────────────────────────────────────────────────────\n"
     ]
    },
    {
     "data": {
      "text/plain": [
       "[{'test_loss': 0.4161258935928345, 'test_mse': 0.3028821349143982}]"
      ]
     },
     "execution_count": 6,
     "metadata": {},
     "output_type": "execute_result"
    }
   ],
   "source": [
    "ckpt_fname = \"kpa_predictor-epoch=027-valid_loss=0.4691-valid_mse=0.3680.ckpt\"\n",
    "kpa_predictor = kpa_predictor.load_from_checkpoint(\"weights/regression_res152_wo_bound/\" + ckpt_fname, model=model)\n",
    "\n",
    "trainer.test(kpa_predictor, test_dataloader)"
   ]
  },
  {
   "cell_type": "code",
   "execution_count": 54,
   "id": "5902d366",
   "metadata": {
    "scrolled": true
   },
   "outputs": [
    {
     "data": {
      "text/html": [
       "<div>\n",
       "<style scoped>\n",
       "    .dataframe tbody tr th:only-of-type {\n",
       "        vertical-align: middle;\n",
       "    }\n",
       "\n",
       "    .dataframe tbody tr th {\n",
       "        vertical-align: top;\n",
       "    }\n",
       "\n",
       "    .dataframe thead th {\n",
       "        text-align: right;\n",
       "    }\n",
       "</style>\n",
       "<table border=\"1\" class=\"dataframe\">\n",
       "  <thead>\n",
       "    <tr style=\"text-align: right;\">\n",
       "      <th></th>\n",
       "      <th>ID</th>\n",
       "      <th>kPa_fib</th>\n",
       "      <th>v1</th>\n",
       "      <th>v2</th>\n",
       "      <th>v3</th>\n",
       "      <th>v4</th>\n",
       "      <th>v5</th>\n",
       "      <th>age</th>\n",
       "      <th>AST</th>\n",
       "      <th>ALT</th>\n",
       "      <th>PLT</th>\n",
       "    </tr>\n",
       "  </thead>\n",
       "  <tbody>\n",
       "    <tr>\n",
       "      <th>0</th>\n",
       "      <td>00652843</td>\n",
       "      <td>12.0</td>\n",
       "      <td>7.471465</td>\n",
       "      <td>7.395196</td>\n",
       "      <td>6.274761</td>\n",
       "      <td>5.935843</td>\n",
       "      <td>5.564222</td>\n",
       "      <td>79</td>\n",
       "      <td>31.0</td>\n",
       "      <td>17.0</td>\n",
       "      <td>139.0</td>\n",
       "    </tr>\n",
       "    <tr>\n",
       "      <th>1</th>\n",
       "      <td>01061554</td>\n",
       "      <td>21.3</td>\n",
       "      <td>12.710855</td>\n",
       "      <td>9.921928</td>\n",
       "      <td>7.731797</td>\n",
       "      <td>7.617371</td>\n",
       "      <td>6.973564</td>\n",
       "      <td>74</td>\n",
       "      <td>69.0</td>\n",
       "      <td>19.0</td>\n",
       "      <td>19.0</td>\n",
       "    </tr>\n",
       "    <tr>\n",
       "      <th>2</th>\n",
       "      <td>01100790</td>\n",
       "      <td>4.5</td>\n",
       "      <td>9.618956</td>\n",
       "      <td>6.810647</td>\n",
       "      <td>6.086640</td>\n",
       "      <td>5.637625</td>\n",
       "      <td>5.123699</td>\n",
       "      <td>69</td>\n",
       "      <td>51.0</td>\n",
       "      <td>62.0</td>\n",
       "      <td>164.0</td>\n",
       "    </tr>\n",
       "    <tr>\n",
       "      <th>3</th>\n",
       "      <td>01122103</td>\n",
       "      <td>5.3</td>\n",
       "      <td>7.335764</td>\n",
       "      <td>6.027724</td>\n",
       "      <td>5.289991</td>\n",
       "      <td>4.760654</td>\n",
       "      <td>4.748064</td>\n",
       "      <td>46</td>\n",
       "      <td>27.0</td>\n",
       "      <td>37.0</td>\n",
       "      <td>153.0</td>\n",
       "    </tr>\n",
       "    <tr>\n",
       "      <th>4</th>\n",
       "      <td>01165085</td>\n",
       "      <td>4.7</td>\n",
       "      <td>7.502084</td>\n",
       "      <td>6.948230</td>\n",
       "      <td>6.869021</td>\n",
       "      <td>5.553672</td>\n",
       "      <td>5.308191</td>\n",
       "      <td>57</td>\n",
       "      <td>50.0</td>\n",
       "      <td>37.0</td>\n",
       "      <td>274.0</td>\n",
       "    </tr>\n",
       "    <tr>\n",
       "      <th>5</th>\n",
       "      <td>01168622</td>\n",
       "      <td>7.1</td>\n",
       "      <td>6.309327</td>\n",
       "      <td>5.989295</td>\n",
       "      <td>5.768185</td>\n",
       "      <td>5.151645</td>\n",
       "      <td>5.119466</td>\n",
       "      <td>75</td>\n",
       "      <td>26.0</td>\n",
       "      <td>11.0</td>\n",
       "      <td>205.0</td>\n",
       "    </tr>\n",
       "    <tr>\n",
       "      <th>6</th>\n",
       "      <td>01297629</td>\n",
       "      <td>12.6</td>\n",
       "      <td>12.590362</td>\n",
       "      <td>7.559417</td>\n",
       "      <td>7.504156</td>\n",
       "      <td>6.276116</td>\n",
       "      <td>5.218731</td>\n",
       "      <td>48</td>\n",
       "      <td>31.0</td>\n",
       "      <td>23.0</td>\n",
       "      <td>86.0</td>\n",
       "    </tr>\n",
       "    <tr>\n",
       "      <th>7</th>\n",
       "      <td>01305221</td>\n",
       "      <td>7.4</td>\n",
       "      <td>5.608263</td>\n",
       "      <td>5.448699</td>\n",
       "      <td>5.399424</td>\n",
       "      <td>5.378242</td>\n",
       "      <td>4.181996</td>\n",
       "      <td>33</td>\n",
       "      <td>40.0</td>\n",
       "      <td>64.0</td>\n",
       "      <td>289.0</td>\n",
       "    </tr>\n",
       "    <tr>\n",
       "      <th>8</th>\n",
       "      <td>01332746</td>\n",
       "      <td>18.8</td>\n",
       "      <td>9.591213</td>\n",
       "      <td>8.712101</td>\n",
       "      <td>6.336744</td>\n",
       "      <td>5.714222</td>\n",
       "      <td>5.060771</td>\n",
       "      <td>60</td>\n",
       "      <td>43.0</td>\n",
       "      <td>66.0</td>\n",
       "      <td>119.0</td>\n",
       "    </tr>\n",
       "    <tr>\n",
       "      <th>9</th>\n",
       "      <td>01380232</td>\n",
       "      <td>2.3</td>\n",
       "      <td>5.313112</td>\n",
       "      <td>5.091123</td>\n",
       "      <td>4.959963</td>\n",
       "      <td>4.882387</td>\n",
       "      <td>4.582383</td>\n",
       "      <td>53</td>\n",
       "      <td>28.0</td>\n",
       "      <td>14.0</td>\n",
       "      <td>238.0</td>\n",
       "    </tr>\n",
       "    <tr>\n",
       "      <th>10</th>\n",
       "      <td>01415318</td>\n",
       "      <td>3.3</td>\n",
       "      <td>6.222546</td>\n",
       "      <td>5.128657</td>\n",
       "      <td>4.789584</td>\n",
       "      <td>4.580132</td>\n",
       "      <td>4.165943</td>\n",
       "      <td>60</td>\n",
       "      <td>31.0</td>\n",
       "      <td>11.0</td>\n",
       "      <td>177.0</td>\n",
       "    </tr>\n",
       "    <tr>\n",
       "      <th>11</th>\n",
       "      <td>01433402</td>\n",
       "      <td>7.2</td>\n",
       "      <td>11.337029</td>\n",
       "      <td>6.066566</td>\n",
       "      <td>5.071892</td>\n",
       "      <td>4.454634</td>\n",
       "      <td>4.029912</td>\n",
       "      <td>55</td>\n",
       "      <td>28.0</td>\n",
       "      <td>15.0</td>\n",
       "      <td>300.0</td>\n",
       "    </tr>\n",
       "    <tr>\n",
       "      <th>12</th>\n",
       "      <td>01439864</td>\n",
       "      <td>3.2</td>\n",
       "      <td>7.697280</td>\n",
       "      <td>5.869656</td>\n",
       "      <td>5.458673</td>\n",
       "      <td>4.704958</td>\n",
       "      <td>3.932010</td>\n",
       "      <td>46</td>\n",
       "      <td>21.0</td>\n",
       "      <td>14.0</td>\n",
       "      <td>283.0</td>\n",
       "    </tr>\n",
       "    <tr>\n",
       "      <th>13</th>\n",
       "      <td>01452322</td>\n",
       "      <td>4.9</td>\n",
       "      <td>12.535524</td>\n",
       "      <td>7.707421</td>\n",
       "      <td>6.530601</td>\n",
       "      <td>6.257505</td>\n",
       "      <td>5.860179</td>\n",
       "      <td>60</td>\n",
       "      <td>20.0</td>\n",
       "      <td>13.0</td>\n",
       "      <td>281.0</td>\n",
       "    </tr>\n",
       "    <tr>\n",
       "      <th>14</th>\n",
       "      <td>01469819</td>\n",
       "      <td>3.6</td>\n",
       "      <td>6.641893</td>\n",
       "      <td>6.217595</td>\n",
       "      <td>5.819007</td>\n",
       "      <td>5.572867</td>\n",
       "      <td>5.510514</td>\n",
       "      <td>57</td>\n",
       "      <td>55.0</td>\n",
       "      <td>73.0</td>\n",
       "      <td>230.0</td>\n",
       "    </tr>\n",
       "    <tr>\n",
       "      <th>15</th>\n",
       "      <td>01501504</td>\n",
       "      <td>4.5</td>\n",
       "      <td>19.851671</td>\n",
       "      <td>12.227317</td>\n",
       "      <td>7.849427</td>\n",
       "      <td>5.655752</td>\n",
       "      <td>4.367997</td>\n",
       "      <td>65</td>\n",
       "      <td>28.0</td>\n",
       "      <td>18.0</td>\n",
       "      <td>202.0</td>\n",
       "    </tr>\n",
       "    <tr>\n",
       "      <th>16</th>\n",
       "      <td>01557202</td>\n",
       "      <td>4.2</td>\n",
       "      <td>7.078387</td>\n",
       "      <td>5.935273</td>\n",
       "      <td>5.166597</td>\n",
       "      <td>4.703695</td>\n",
       "      <td>3.938044</td>\n",
       "      <td>28</td>\n",
       "      <td>38.0</td>\n",
       "      <td>86.0</td>\n",
       "      <td>270.0</td>\n",
       "    </tr>\n",
       "    <tr>\n",
       "      <th>17</th>\n",
       "      <td>01573702</td>\n",
       "      <td>2.7</td>\n",
       "      <td>5.637809</td>\n",
       "      <td>4.467879</td>\n",
       "      <td>4.264375</td>\n",
       "      <td>4.246868</td>\n",
       "      <td>4.127585</td>\n",
       "      <td>59</td>\n",
       "      <td>38.0</td>\n",
       "      <td>12.0</td>\n",
       "      <td>179.0</td>\n",
       "    </tr>\n",
       "    <tr>\n",
       "      <th>18</th>\n",
       "      <td>01578787</td>\n",
       "      <td>4.4</td>\n",
       "      <td>9.447404</td>\n",
       "      <td>6.122224</td>\n",
       "      <td>6.105020</td>\n",
       "      <td>4.852624</td>\n",
       "      <td>4.552933</td>\n",
       "      <td>49</td>\n",
       "      <td>94.0</td>\n",
       "      <td>146.0</td>\n",
       "      <td>18.0</td>\n",
       "    </tr>\n",
       "    <tr>\n",
       "      <th>19</th>\n",
       "      <td>01634587</td>\n",
       "      <td>5.0</td>\n",
       "      <td>11.871831</td>\n",
       "      <td>9.017465</td>\n",
       "      <td>7.596262</td>\n",
       "      <td>6.697631</td>\n",
       "      <td>6.132792</td>\n",
       "      <td>62</td>\n",
       "      <td>75.0</td>\n",
       "      <td>25.0</td>\n",
       "      <td>348.0</td>\n",
       "    </tr>\n",
       "    <tr>\n",
       "      <th>20</th>\n",
       "      <td>01667593</td>\n",
       "      <td>25.4</td>\n",
       "      <td>7.605261</td>\n",
       "      <td>6.522378</td>\n",
       "      <td>6.355153</td>\n",
       "      <td>6.254929</td>\n",
       "      <td>4.512667</td>\n",
       "      <td>43</td>\n",
       "      <td>31.0</td>\n",
       "      <td>46.0</td>\n",
       "      <td>163.0</td>\n",
       "    </tr>\n",
       "    <tr>\n",
       "      <th>21</th>\n",
       "      <td>01685322</td>\n",
       "      <td>4.0</td>\n",
       "      <td>12.327913</td>\n",
       "      <td>6.085682</td>\n",
       "      <td>5.941701</td>\n",
       "      <td>5.808815</td>\n",
       "      <td>5.507740</td>\n",
       "      <td>25</td>\n",
       "      <td>43.0</td>\n",
       "      <td>78.0</td>\n",
       "      <td>270.0</td>\n",
       "    </tr>\n",
       "    <tr>\n",
       "      <th>22</th>\n",
       "      <td>01707238</td>\n",
       "      <td>4.6</td>\n",
       "      <td>9.100374</td>\n",
       "      <td>5.854257</td>\n",
       "      <td>5.180431</td>\n",
       "      <td>4.551166</td>\n",
       "      <td>4.431323</td>\n",
       "      <td>53</td>\n",
       "      <td>33.0</td>\n",
       "      <td>58.0</td>\n",
       "      <td>289.0</td>\n",
       "    </tr>\n",
       "    <tr>\n",
       "      <th>23</th>\n",
       "      <td>01712406</td>\n",
       "      <td>12.0</td>\n",
       "      <td>7.915992</td>\n",
       "      <td>6.984663</td>\n",
       "      <td>6.926639</td>\n",
       "      <td>6.625076</td>\n",
       "      <td>6.437468</td>\n",
       "      <td>82</td>\n",
       "      <td>24.0</td>\n",
       "      <td>33.0</td>\n",
       "      <td>50.0</td>\n",
       "    </tr>\n",
       "    <tr>\n",
       "      <th>24</th>\n",
       "      <td>01720509</td>\n",
       "      <td>2.6</td>\n",
       "      <td>5.160924</td>\n",
       "      <td>4.981816</td>\n",
       "      <td>4.874887</td>\n",
       "      <td>4.352000</td>\n",
       "      <td>4.308014</td>\n",
       "      <td>45</td>\n",
       "      <td>38.0</td>\n",
       "      <td>44.0</td>\n",
       "      <td>247.0</td>\n",
       "    </tr>\n",
       "    <tr>\n",
       "      <th>25</th>\n",
       "      <td>01739991</td>\n",
       "      <td>16.9</td>\n",
       "      <td>8.185034</td>\n",
       "      <td>8.030051</td>\n",
       "      <td>7.140448</td>\n",
       "      <td>6.033827</td>\n",
       "      <td>5.614954</td>\n",
       "      <td>57</td>\n",
       "      <td>31.0</td>\n",
       "      <td>42.0</td>\n",
       "      <td>235.0</td>\n",
       "    </tr>\n",
       "    <tr>\n",
       "      <th>26</th>\n",
       "      <td>01740337</td>\n",
       "      <td>30.0</td>\n",
       "      <td>15.206691</td>\n",
       "      <td>12.255815</td>\n",
       "      <td>8.382659</td>\n",
       "      <td>7.541715</td>\n",
       "      <td>7.159723</td>\n",
       "      <td>50</td>\n",
       "      <td>179.0</td>\n",
       "      <td>11.0</td>\n",
       "      <td>447.0</td>\n",
       "    </tr>\n",
       "    <tr>\n",
       "      <th>27</th>\n",
       "      <td>01753435</td>\n",
       "      <td>5.4</td>\n",
       "      <td>13.974339</td>\n",
       "      <td>7.496091</td>\n",
       "      <td>7.445545</td>\n",
       "      <td>5.604579</td>\n",
       "      <td>4.828598</td>\n",
       "      <td>54</td>\n",
       "      <td>28.0</td>\n",
       "      <td>19.0</td>\n",
       "      <td>288.0</td>\n",
       "    </tr>\n",
       "    <tr>\n",
       "      <th>28</th>\n",
       "      <td>01755261</td>\n",
       "      <td>4.3</td>\n",
       "      <td>5.990353</td>\n",
       "      <td>5.587139</td>\n",
       "      <td>5.458671</td>\n",
       "      <td>5.273330</td>\n",
       "      <td>5.181601</td>\n",
       "      <td>61</td>\n",
       "      <td>34.0</td>\n",
       "      <td>15.0</td>\n",
       "      <td>248.0</td>\n",
       "    </tr>\n",
       "    <tr>\n",
       "      <th>29</th>\n",
       "      <td>01766265</td>\n",
       "      <td>3.4</td>\n",
       "      <td>10.569264</td>\n",
       "      <td>6.243140</td>\n",
       "      <td>6.059704</td>\n",
       "      <td>5.029530</td>\n",
       "      <td>4.991537</td>\n",
       "      <td>57</td>\n",
       "      <td>36.0</td>\n",
       "      <td>16.0</td>\n",
       "      <td>224.0</td>\n",
       "    </tr>\n",
       "  </tbody>\n",
       "</table>\n",
       "</div>"
      ],
      "text/plain": [
       "          ID  kPa_fib         v1         v2        v3        v4        v5  \\\n",
       "0   00652843     12.0   7.471465   7.395196  6.274761  5.935843  5.564222   \n",
       "1   01061554     21.3  12.710855   9.921928  7.731797  7.617371  6.973564   \n",
       "2   01100790      4.5   9.618956   6.810647  6.086640  5.637625  5.123699   \n",
       "3   01122103      5.3   7.335764   6.027724  5.289991  4.760654  4.748064   \n",
       "4   01165085      4.7   7.502084   6.948230  6.869021  5.553672  5.308191   \n",
       "5   01168622      7.1   6.309327   5.989295  5.768185  5.151645  5.119466   \n",
       "6   01297629     12.6  12.590362   7.559417  7.504156  6.276116  5.218731   \n",
       "7   01305221      7.4   5.608263   5.448699  5.399424  5.378242  4.181996   \n",
       "8   01332746     18.8   9.591213   8.712101  6.336744  5.714222  5.060771   \n",
       "9   01380232      2.3   5.313112   5.091123  4.959963  4.882387  4.582383   \n",
       "10  01415318      3.3   6.222546   5.128657  4.789584  4.580132  4.165943   \n",
       "11  01433402      7.2  11.337029   6.066566  5.071892  4.454634  4.029912   \n",
       "12  01439864      3.2   7.697280   5.869656  5.458673  4.704958  3.932010   \n",
       "13  01452322      4.9  12.535524   7.707421  6.530601  6.257505  5.860179   \n",
       "14  01469819      3.6   6.641893   6.217595  5.819007  5.572867  5.510514   \n",
       "15  01501504      4.5  19.851671  12.227317  7.849427  5.655752  4.367997   \n",
       "16  01557202      4.2   7.078387   5.935273  5.166597  4.703695  3.938044   \n",
       "17  01573702      2.7   5.637809   4.467879  4.264375  4.246868  4.127585   \n",
       "18  01578787      4.4   9.447404   6.122224  6.105020  4.852624  4.552933   \n",
       "19  01634587      5.0  11.871831   9.017465  7.596262  6.697631  6.132792   \n",
       "20  01667593     25.4   7.605261   6.522378  6.355153  6.254929  4.512667   \n",
       "21  01685322      4.0  12.327913   6.085682  5.941701  5.808815  5.507740   \n",
       "22  01707238      4.6   9.100374   5.854257  5.180431  4.551166  4.431323   \n",
       "23  01712406     12.0   7.915992   6.984663  6.926639  6.625076  6.437468   \n",
       "24  01720509      2.6   5.160924   4.981816  4.874887  4.352000  4.308014   \n",
       "25  01739991     16.9   8.185034   8.030051  7.140448  6.033827  5.614954   \n",
       "26  01740337     30.0  15.206691  12.255815  8.382659  7.541715  7.159723   \n",
       "27  01753435      5.4  13.974339   7.496091  7.445545  5.604579  4.828598   \n",
       "28  01755261      4.3   5.990353   5.587139  5.458671  5.273330  5.181601   \n",
       "29  01766265      3.4  10.569264   6.243140  6.059704  5.029530  4.991537   \n",
       "\n",
       "    age    AST    ALT    PLT  \n",
       "0    79   31.0   17.0  139.0  \n",
       "1    74   69.0   19.0   19.0  \n",
       "2    69   51.0   62.0  164.0  \n",
       "3    46   27.0   37.0  153.0  \n",
       "4    57   50.0   37.0  274.0  \n",
       "5    75   26.0   11.0  205.0  \n",
       "6    48   31.0   23.0   86.0  \n",
       "7    33   40.0   64.0  289.0  \n",
       "8    60   43.0   66.0  119.0  \n",
       "9    53   28.0   14.0  238.0  \n",
       "10   60   31.0   11.0  177.0  \n",
       "11   55   28.0   15.0  300.0  \n",
       "12   46   21.0   14.0  283.0  \n",
       "13   60   20.0   13.0  281.0  \n",
       "14   57   55.0   73.0  230.0  \n",
       "15   65   28.0   18.0  202.0  \n",
       "16   28   38.0   86.0  270.0  \n",
       "17   59   38.0   12.0  179.0  \n",
       "18   49   94.0  146.0   18.0  \n",
       "19   62   75.0   25.0  348.0  \n",
       "20   43   31.0   46.0  163.0  \n",
       "21   25   43.0   78.0  270.0  \n",
       "22   53   33.0   58.0  289.0  \n",
       "23   82   24.0   33.0   50.0  \n",
       "24   45   38.0   44.0  247.0  \n",
       "25   57   31.0   42.0  235.0  \n",
       "26   50  179.0   11.0  447.0  \n",
       "27   54   28.0   19.0  288.0  \n",
       "28   61   34.0   15.0  248.0  \n",
       "29   57   36.0   16.0  224.0  "
      ]
     },
     "execution_count": 54,
     "metadata": {},
     "output_type": "execute_result"
    }
   ],
   "source": [
    "from tqdm import tqdm\n",
    "\n",
    "class PredictDataset(Dataset):\n",
    "    def __init__(self, df, transform):\n",
    "        self.df = df\n",
    "        self.transform = transform\n",
    "        \n",
    "        \n",
    "    def __len__(self):\n",
    "        return len(self.df)\n",
    "\n",
    "    \n",
    "    def __getitem__(self, idx):\n",
    "        ID = self.df.loc[idx, \"ID\"]\n",
    "        fname = self.df.loc[idx, \"image_path\"]\n",
    "        \n",
    "        image = cv2.imread(self.df.loc[idx, \"image_path\"])\n",
    "        image = self.transform(image=image)\n",
    "        \n",
    "        y = self.df.loc[idx, \"kPa_fib\"]\n",
    "        \n",
    "        return image['image'], torch.tensor(y).log().float(), ID, fname\n",
    "    \n",
    "predict_df = pd.concat([valid_df, test_df], axis=0).reset_index(drop=True)\n",
    "    \n",
    "predict_dataset = PredictDataset(predict_df, valid_transform)\n",
    "predict_dataloader = DataLoader(predict_dataset, batch_size=1)\n",
    "\n",
    "results = []\n",
    "\n",
    "kpa_predictor.model.eval()\n",
    "kpa_predictor.model.to(\"cuda\")\n",
    "\n",
    "for batch in predict_dataloader:\n",
    "    image, y, ID, fname = batch\n",
    "    \n",
    "    pred = kpa_predictor(image.to(\"cuda\"))\n",
    "    results.append([ID[0], np.exp(pred.detach().to(\"cpu\").numpy()[0][0])])\n",
    "    \n",
    "results = pd.DataFrame(results, columns=['ID', 'pred'])\n",
    "results = results.groupby(\"ID\").head(5).sort_values([\"ID\", \"pred\"], ascending=False).groupby(\"ID\").agg(list).reset_index()\n",
    "results = pd.concat([results['ID'], pd.DataFrame(results['pred'].tolist(), columns=['v1', 'v2', 'v3', 'v4', 'v5'])], axis=1)\n",
    "\n",
    "df = pd.read_excel(\"data/US_fibrosis_stage_dataset.xlsx\", engine=\"openpyxl\")\n",
    "df = df.loc[:, [\"ID\", \"age\", \"AST\", \"ALT\", \"PLT\"]]\n",
    "df.ID = df.ID.map(lambda x: str(x).zfill(8))\n",
    "\n",
    "predict_df = pd.merge(predict_df, df, on=\"ID\", how=\"left\")\n",
    "predict_df = pd.merge(predict_df, results, on=\"ID\", how=\"left\")\n",
    "predict_df = predict_df.loc[:, [\"ID\", \"kPa_fib\", \"v1\", \"v2\", \"v3\", \"v4\", \"v5\", \"age\", \"AST\", \"ALT\", \"PLT\"]]\n",
    "predict_df = predict_df.drop_duplicates().reset_index(drop=True)\n",
    "\n",
    "predict_df.to_csv(\"data/fibroscan_predict_df.csv\", index=False)"
   ]
  },
  {
   "cell_type": "code",
   "execution_count": 59,
   "id": "e36837b5",
   "metadata": {},
   "outputs": [
    {
     "data": {
      "text/html": [
       "<div>\n",
       "<style scoped>\n",
       "    .dataframe tbody tr th:only-of-type {\n",
       "        vertical-align: middle;\n",
       "    }\n",
       "\n",
       "    .dataframe tbody tr th {\n",
       "        vertical-align: top;\n",
       "    }\n",
       "\n",
       "    .dataframe thead th {\n",
       "        text-align: right;\n",
       "    }\n",
       "</style>\n",
       "<table border=\"1\" class=\"dataframe\">\n",
       "  <thead>\n",
       "    <tr style=\"text-align: right;\">\n",
       "      <th></th>\n",
       "      <th>ID</th>\n",
       "      <th>kPa_mre</th>\n",
       "      <th>image_path</th>\n",
       "    </tr>\n",
       "  </thead>\n",
       "  <tbody>\n",
       "    <tr>\n",
       "      <th>0</th>\n",
       "      <td>00008960</td>\n",
       "      <td>4.34</td>\n",
       "      <td>data/roi_sampled/00008960-6.jpg</td>\n",
       "    </tr>\n",
       "    <tr>\n",
       "      <th>1</th>\n",
       "      <td>00008960</td>\n",
       "      <td>4.34</td>\n",
       "      <td>data/roi_sampled/00008960-0.jpg</td>\n",
       "    </tr>\n",
       "    <tr>\n",
       "      <th>2</th>\n",
       "      <td>00008960</td>\n",
       "      <td>4.34</td>\n",
       "      <td>data/roi_sampled/00008960-1.jpg</td>\n",
       "    </tr>\n",
       "    <tr>\n",
       "      <th>3</th>\n",
       "      <td>00008960</td>\n",
       "      <td>4.34</td>\n",
       "      <td>data/roi_sampled/00008960-10.jpg</td>\n",
       "    </tr>\n",
       "    <tr>\n",
       "      <th>4</th>\n",
       "      <td>00008960</td>\n",
       "      <td>4.34</td>\n",
       "      <td>data/roi_sampled/00008960-11.jpg</td>\n",
       "    </tr>\n",
       "  </tbody>\n",
       "</table>\n",
       "</div>"
      ],
      "text/plain": [
       "         ID  kPa_mre                        image_path\n",
       "0  00008960     4.34   data/roi_sampled/00008960-6.jpg\n",
       "1  00008960     4.34   data/roi_sampled/00008960-0.jpg\n",
       "2  00008960     4.34   data/roi_sampled/00008960-1.jpg\n",
       "3  00008960     4.34  data/roi_sampled/00008960-10.jpg\n",
       "4  00008960     4.34  data/roi_sampled/00008960-11.jpg"
      ]
     },
     "execution_count": 59,
     "metadata": {},
     "output_type": "execute_result"
    }
   ],
   "source": [
    "mre_df = pd.read_excel(\"data/US_fibrosis_stage_dataset.xlsx\", engine=\"openpyxl\")\n",
    "mre_df = mre_df.loc[:, [\"ID\", \"kPa_mre\"]].dropna().reset_index(drop=True)\n",
    "mre_df.ID = mre_df.ID.map(lambda x: str(x).zfill(8))\n",
    "flist = os.listdir(\"data/roi_sampled/\")\n",
    "id_list = list(map(lambda x: x.split(\"_\")[0].zfill(8), flist))\n",
    "\n",
    "image_df = pd.DataFrame(glob.glob(os.path.join(\"data\", \"roi_sampled\", \"*.jpg\")), columns=[\"image_path\"])\n",
    "image_df.loc[:, \"ID\"] = image_df.image_path.map(lambda x: x.split(\"/\")[-1].split(\"-\")[0])\n",
    "\n",
    "mre_df = pd.merge(mre_df, image_df, on=\"ID\", how=\"inner\")\n",
    "mre_df.head()\n"
   ]
  },
  {
   "cell_type": "code",
   "execution_count": 62,
   "id": "c4fa935f",
   "metadata": {},
   "outputs": [],
   "source": [
    "class PredictDataset(Dataset):\n",
    "    def __init__(self, df, transform):\n",
    "        self.df = df\n",
    "        self.transform = transform\n",
    "        \n",
    "        \n",
    "    def __len__(self):\n",
    "        return len(self.df)\n",
    "\n",
    "    \n",
    "    def __getitem__(self, idx):\n",
    "        ID = self.df.loc[idx, \"ID\"]\n",
    "        fname = self.df.loc[idx, \"image_path\"]\n",
    "        \n",
    "        image = cv2.imread(self.df.loc[idx, \"image_path\"])\n",
    "        image = self.transform(image=image)\n",
    "        \n",
    "        y = self.df.loc[idx, \"kPa_mre\"]\n",
    "        \n",
    "        return image['image'], torch.tensor(y).log().float(), ID, fname\n",
    "\n",
    "mre_dataset = PredictDataset(mre_df, valid_transform)\n",
    "mre_dataloader = DataLoader(mre_dataset, batch_size=1)\n",
    "\n",
    "results = []\n",
    "\n",
    "kpa_predictor.model.eval()\n",
    "kpa_predictor.model.to(\"cuda\")\n",
    "\n",
    "for batch in mre_dataloader:\n",
    "    image, y, ID, fname = batch\n",
    "    \n",
    "    pred = kpa_predictor(image.to(\"cuda\"))\n",
    "    results.append([ID[0], np.exp(pred.detach().to(\"cpu\").numpy()[0][0])])\n",
    "    \n",
    "results = pd.DataFrame(results, columns=['ID', 'pred'])\n",
    "results = results.groupby(\"ID\").head(5).sort_values([\"ID\", \"pred\"], ascending=False).groupby(\"ID\").agg(list).reset_index()\n",
    "results = pd.concat([results['ID'], pd.DataFrame(results['pred'].tolist(), columns=['v1', 'v2', 'v3', 'v4', 'v5'])], axis=1)\n",
    "\n",
    "df = pd.read_excel(\"data/US_fibrosis_stage_dataset.xlsx\", engine=\"openpyxl\")\n",
    "df = df.loc[:, [\"ID\", \"age\", \"AST\", \"ALT\", \"PLT\"]]\n",
    "df.ID = df.ID.map(lambda x: str(x).zfill(8))\n",
    "\n",
    "mre_df = pd.merge(mre_df, df, on=\"ID\", how=\"left\")\n",
    "mre_df = pd.merge(mre_df, results, on=\"ID\", how=\"left\")\n",
    "mre_df = mre_df.loc[:, [\"ID\", \"kPa_mre\", \"v1\", \"v2\", \"v3\", \"v4\", \"v5\", \"age\", \"AST\", \"ALT\", \"PLT\"]]\n",
    "mre_df = mre_df.drop_duplicates().reset_index(drop=True)\n",
    "\n",
    "mre_df.to_csv(\"data/mre_predict_df.csv\", index=False)\n"
   ]
  },
  {
   "cell_type": "markdown",
   "id": "a262a003",
   "metadata": {},
   "source": []
  }
 ],
 "metadata": {
  "kernelspec": {
   "display_name": "Python 3 (ipykernel)",
   "language": "python",
   "name": "python3"
  },
  "language_info": {
   "codemirror_mode": {
    "name": "ipython",
    "version": 3
   },
   "file_extension": ".py",
   "mimetype": "text/x-python",
   "name": "python",
   "nbconvert_exporter": "python",
   "pygments_lexer": "ipython3",
   "version": "3.8.13"
  }
 },
 "nbformat": 4,
 "nbformat_minor": 5
}
