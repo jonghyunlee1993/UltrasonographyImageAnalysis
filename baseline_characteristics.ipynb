{
 "cells": [
  {
   "cell_type": "code",
   "execution_count": 21,
   "id": "ea516006",
   "metadata": {},
   "outputs": [
    {
     "data": {
      "text/html": [
       "<div>\n",
       "<style scoped>\n",
       "    .dataframe tbody tr th:only-of-type {\n",
       "        vertical-align: middle;\n",
       "    }\n",
       "\n",
       "    .dataframe tbody tr th {\n",
       "        vertical-align: top;\n",
       "    }\n",
       "\n",
       "    .dataframe thead th {\n",
       "        text-align: right;\n",
       "    }\n",
       "</style>\n",
       "<table border=\"1\" class=\"dataframe\">\n",
       "  <thead>\n",
       "    <tr style=\"text-align: right;\">\n",
       "      <th></th>\n",
       "      <th>ID</th>\n",
       "      <th>kPa_mre_x</th>\n",
       "      <th>name</th>\n",
       "      <th>sex</th>\n",
       "      <th>age</th>\n",
       "      <th>study_date_us</th>\n",
       "      <th>study_date_mre</th>\n",
       "      <th>study_date_fib</th>\n",
       "      <th>kPa_mre_y</th>\n",
       "      <th>kPa_fib</th>\n",
       "      <th>...</th>\n",
       "      <th>HCV_Ab_pos</th>\n",
       "      <th>HCV_RNA_pos</th>\n",
       "      <th>is_chronic_alcohol</th>\n",
       "      <th>Etiology</th>\n",
       "      <th>AST</th>\n",
       "      <th>ALT</th>\n",
       "      <th>PLT</th>\n",
       "      <th>Height</th>\n",
       "      <th>Weight</th>\n",
       "      <th>is_in_month</th>\n",
       "    </tr>\n",
       "  </thead>\n",
       "  <tbody>\n",
       "    <tr>\n",
       "      <th>0</th>\n",
       "      <td>8960</td>\n",
       "      <td>4.34</td>\n",
       "      <td>이윤희</td>\n",
       "      <td>0</td>\n",
       "      <td>74</td>\n",
       "      <td>2020-09-25 10:45:54</td>\n",
       "      <td>2020-09-29 18:54:14</td>\n",
       "      <td>NaT</td>\n",
       "      <td>4.34</td>\n",
       "      <td>NaN</td>\n",
       "      <td>...</td>\n",
       "      <td>0</td>\n",
       "      <td>NaN</td>\n",
       "      <td>NaN</td>\n",
       "      <td>NaN</td>\n",
       "      <td>44.0</td>\n",
       "      <td>49.0</td>\n",
       "      <td>126.0</td>\n",
       "      <td>NaN</td>\n",
       "      <td>NaN</td>\n",
       "      <td>0</td>\n",
       "    </tr>\n",
       "    <tr>\n",
       "      <th>1</th>\n",
       "      <td>180635</td>\n",
       "      <td>4.02</td>\n",
       "      <td>이근조</td>\n",
       "      <td>1</td>\n",
       "      <td>76</td>\n",
       "      <td>2019-08-29 10:36:56</td>\n",
       "      <td>2019-04-30 15:11:06</td>\n",
       "      <td>NaT</td>\n",
       "      <td>4.02</td>\n",
       "      <td>NaN</td>\n",
       "      <td>...</td>\n",
       "      <td>0</td>\n",
       "      <td>NaN</td>\n",
       "      <td>NaN</td>\n",
       "      <td>NaN</td>\n",
       "      <td>20.0</td>\n",
       "      <td>10.0</td>\n",
       "      <td>157.0</td>\n",
       "      <td>NaN</td>\n",
       "      <td>NaN</td>\n",
       "      <td>0</td>\n",
       "    </tr>\n",
       "    <tr>\n",
       "      <th>2</th>\n",
       "      <td>434009</td>\n",
       "      <td>3.57</td>\n",
       "      <td>윤화숙</td>\n",
       "      <td>0</td>\n",
       "      <td>62</td>\n",
       "      <td>2020-12-22 09:52:10</td>\n",
       "      <td>2020-12-22 00:16:22</td>\n",
       "      <td>NaT</td>\n",
       "      <td>3.57</td>\n",
       "      <td>NaN</td>\n",
       "      <td>...</td>\n",
       "      <td>0</td>\n",
       "      <td>NaN</td>\n",
       "      <td>NaN</td>\n",
       "      <td>NaN</td>\n",
       "      <td>42.0</td>\n",
       "      <td>30.0</td>\n",
       "      <td>272.0</td>\n",
       "      <td>NaN</td>\n",
       "      <td>NaN</td>\n",
       "      <td>0</td>\n",
       "    </tr>\n",
       "    <tr>\n",
       "      <th>3</th>\n",
       "      <td>553885</td>\n",
       "      <td>2.22</td>\n",
       "      <td>김동숙</td>\n",
       "      <td>0</td>\n",
       "      <td>60</td>\n",
       "      <td>2019-05-09 10:20:02</td>\n",
       "      <td>2019-05-09 10:43:23</td>\n",
       "      <td>NaT</td>\n",
       "      <td>2.22</td>\n",
       "      <td>NaN</td>\n",
       "      <td>...</td>\n",
       "      <td>NaN</td>\n",
       "      <td>NaN</td>\n",
       "      <td>NaN</td>\n",
       "      <td>1</td>\n",
       "      <td>23.0</td>\n",
       "      <td>19.0</td>\n",
       "      <td>187.0</td>\n",
       "      <td>NaN</td>\n",
       "      <td>NaN</td>\n",
       "      <td>0</td>\n",
       "    </tr>\n",
       "    <tr>\n",
       "      <th>4</th>\n",
       "      <td>557257</td>\n",
       "      <td>1.54</td>\n",
       "      <td>강희순</td>\n",
       "      <td>0</td>\n",
       "      <td>68</td>\n",
       "      <td>2018-10-02 08:59:46</td>\n",
       "      <td>2018-10-02 09:44:08</td>\n",
       "      <td>NaT</td>\n",
       "      <td>1.54</td>\n",
       "      <td>NaN</td>\n",
       "      <td>...</td>\n",
       "      <td>NaN</td>\n",
       "      <td>NaN</td>\n",
       "      <td>NaN</td>\n",
       "      <td>1</td>\n",
       "      <td>32.0</td>\n",
       "      <td>21.0</td>\n",
       "      <td>176.0</td>\n",
       "      <td>NaN</td>\n",
       "      <td>NaN</td>\n",
       "      <td>0</td>\n",
       "    </tr>\n",
       "  </tbody>\n",
       "</table>\n",
       "<p>5 rows × 24 columns</p>\n",
       "</div>"
      ],
      "text/plain": [
       "       ID  kPa_mre_x name  sex  age       study_date_us      study_date_mre  \\\n",
       "0    8960       4.34  이윤희    0   74 2020-09-25 10:45:54 2020-09-29 18:54:14   \n",
       "1  180635       4.02  이근조    1   76 2019-08-29 10:36:56 2019-04-30 15:11:06   \n",
       "2  434009       3.57  윤화숙    0   62 2020-12-22 09:52:10 2020-12-22 00:16:22   \n",
       "3  553885       2.22  김동숙    0   60 2019-05-09 10:20:02 2019-05-09 10:43:23   \n",
       "4  557257       1.54  강희순    0   68 2018-10-02 08:59:46 2018-10-02 09:44:08   \n",
       "\n",
       "  study_date_fib  kPa_mre_y  kPa_fib  ...  HCV_Ab_pos  HCV_RNA_pos  \\\n",
       "0            NaT       4.34      NaN  ...           0          NaN   \n",
       "1            NaT       4.02      NaN  ...           0          NaN   \n",
       "2            NaT       3.57      NaN  ...           0          NaN   \n",
       "3            NaT       2.22      NaN  ...         NaN          NaN   \n",
       "4            NaT       1.54      NaN  ...         NaN          NaN   \n",
       "\n",
       "   is_chronic_alcohol Etiology   AST   ALT    PLT Height  Weight  is_in_month  \n",
       "0                 NaN      NaN  44.0  49.0  126.0    NaN     NaN            0  \n",
       "1                 NaN      NaN  20.0  10.0  157.0    NaN     NaN            0  \n",
       "2                 NaN      NaN  42.0  30.0  272.0    NaN     NaN            0  \n",
       "3                 NaN        1  23.0  19.0  187.0    NaN     NaN            0  \n",
       "4                 NaN        1  32.0  21.0  176.0    NaN     NaN            0  \n",
       "\n",
       "[5 rows x 24 columns]"
      ]
     },
     "execution_count": 21,
     "metadata": {},
     "output_type": "execute_result"
    }
   ],
   "source": [
    "import numpy as np\n",
    "import pandas as pd\n",
    "\n",
    "df = pd.read_excel(\"data/US_fibrosis_stage_dataset.xlsx\", engine=\"openpyxl\")\n",
    "# df = df.loc[(df.AST < 100) | (df.ALT < 100)].reset_index(drop=True)\n",
    "df_filter = df.loc[:, [\"ID\", \"kPa_mre\"]].dropna().reset_index(drop=True)\n",
    "df = pd.merge(df_filter, df, on=\"ID\", how=\"left\")\n",
    "df.head()"
   ]
  },
  {
   "cell_type": "code",
   "execution_count": 23,
   "id": "99d14b3c",
   "metadata": {},
   "outputs": [
    {
     "data": {
      "text/plain": [
       "(714, 24)"
      ]
     },
     "execution_count": 23,
     "metadata": {},
     "output_type": "execute_result"
    }
   ],
   "source": [
    "df.shape"
   ]
  },
  {
   "cell_type": "code",
   "execution_count": 22,
   "id": "1c875744",
   "metadata": {},
   "outputs": [
    {
     "data": {
      "text/plain": [
       "Counter({0: 355, 1: 359})"
      ]
     },
     "execution_count": 22,
     "metadata": {},
     "output_type": "execute_result"
    }
   ],
   "source": [
    "from collections import Counter\n",
    "\n",
    "Counter(df.sex.values)"
   ]
  },
  {
   "cell_type": "code",
   "execution_count": 25,
   "id": "179514fb",
   "metadata": {
    "scrolled": true
   },
   "outputs": [
    {
     "name": "stdout",
     "output_type": "stream",
     "text": [
      "54.66(12.55)\n",
      "3.07(1.53)\n",
      "67.32(158.39)\n",
      "61.94(174.9)\n",
      "202.16(72.68)\n"
     ]
    }
   ],
   "source": [
    "for col in [df.age, df.kPa_mre_x, df.AST, df.ALT, df.PLT]:\n",
    "    mean = np.mean(col).round(2)\n",
    "    sd = np.std(col).round(2)\n",
    "    print(str(mean) + \"(\" + str(sd) + \")\")\n"
   ]
  },
  {
   "cell_type": "code",
   "execution_count": null,
   "id": "93370112",
   "metadata": {},
   "outputs": [],
   "source": []
  },
  {
   "cell_type": "code",
   "execution_count": null,
   "id": "f6b310f4",
   "metadata": {},
   "outputs": [],
   "source": []
  }
 ],
 "metadata": {
  "kernelspec": {
   "display_name": "Python 3 (ipykernel)",
   "language": "python",
   "name": "python3"
  },
  "language_info": {
   "codemirror_mode": {
    "name": "ipython",
    "version": 3
   },
   "file_extension": ".py",
   "mimetype": "text/x-python",
   "name": "python",
   "nbconvert_exporter": "python",
   "pygments_lexer": "ipython3",
   "version": "3.8.13"
  }
 },
 "nbformat": 4,
 "nbformat_minor": 5
}
